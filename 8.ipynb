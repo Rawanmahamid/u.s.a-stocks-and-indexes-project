{
 "cells": [
  {
   "cell_type": "code",
   "execution_count": 7,
   "metadata": {},
   "outputs": [],
   "source": [
    "d=pd.read_excel('./Downloads././Russell 20001.xlsx',sheet_name=15)\n",
    "un=pd.unique(d['symbol'])\n",
    "symmd=list(un)\n",
    "symmd\n",
    "\n",
    "start =('2000-01-01')\n",
    "end =('2020-11-01')\n",
    "d=pd.concat(web.DataReader(symmd,'yahoo-actions','2000-1-1','2020-11-1'))\n",
    "d.to_excel('rus1555.xlsx')"
   ]
  },
  {
   "cell_type": "code",
   "execution_count": 3,
   "metadata": {},
   "outputs": [],
   "source": [
    "import pandas as pd\n",
    "import pandas_datareader.data as web\n",
    "from datetime import datetime\n",
    "import matplotlib.pyplot as plt\n",
    "from iexfinance.stocks import get_historical_data\n",
    "from iexfinance.stocks import Stock\n",
    "import os\n",
    "from yahoofinancials import YahooFinancials as yfs\n",
    "import yfinance as yf\n"
   ]
  }
 ],
 "metadata": {
  "kernelspec": {
   "display_name": "Python 3",
   "language": "python",
   "name": "python3"
  },
  "language_info": {
   "codemirror_mode": {
    "name": "ipython",
    "version": 3
   },
   "file_extension": ".py",
   "mimetype": "text/x-python",
   "name": "python",
   "nbconvert_exporter": "python",
   "pygments_lexer": "ipython3",
   "version": "3.8.6"
  }
 },
 "nbformat": 4,
 "nbformat_minor": 4
}
